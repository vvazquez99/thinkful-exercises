{
 "cells": [
  {
   "cell_type": "markdown",
   "metadata": {},
   "source": [
    "$$t = \\frac{\\bar{y_1}-\\bar{y_2}}{\\sqrt{s^2_1/N_1+s^2_2/N_2}}$$\n",
    "\n",
    "$\\bar{y_1}$ and $\\bar{y_2}$ represent the sample means of groups 1 and 2.\n",
    "\n",
    "$s_1$ and $s_2$ represent the sample standard deviations of groups 1 and 2.\n",
    "\n",
    "$N_1$ and $N_2$ represent the sample sizes for groups 1 and 2.\n"
   ]
  },
  {
   "cell_type": "markdown",
   "metadata": {},
   "source": [
    "## Assignments\n",
    "\n",
    "To help you find your bearings with regard to t-tests, calculate the t-values for the following numbers:\n",
    "\n",
    "1. $\\bar{y_1}= 5$, $\\bar{y_2}= 8$, $s_1= 1$, $s_2= 3$, $N_1= 200$, $N_2= 500$\n",
    "2. $\\bar{y_1}= 1090$, $\\bar{y_2}= 999$, $s_1= 400$, $s_2= 30$, $N_1= 900$, $N_2= 100$\n",
    "3. $\\bar{y_1}= 45$, $\\bar{y_2}= 40$, $s_1= 45$, $s_2= 40$, $N_1= 2000$, $N_2= 2000$"
   ]
  },
  {
   "cell_type": "markdown",
   "metadata": {},
   "source": [
    "### 1.\n",
    "\n",
    "$$t = \\frac{{5}-{8}}{\\sqrt{1^2/200+3^2/500}}$$\n",
    "\n",
    "$$t = \\frac{-3}{\\sqrt{1/200+9/500}}$$\n",
    "\n",
    "$$t = \\frac{-3}{\\sqrt{5/1000+18/1000}}$$\n",
    "\n",
    "$$t = \\frac{-3}{\\sqrt{23/1000}}$$\n",
    "\n",
    "$$t = -19.78$$"
   ]
  },
  {
   "cell_type": "markdown",
   "metadata": {},
   "source": [
    "### 2.\n",
    "\n",
    "$$t = \\frac{{1090}-{999}}{\\sqrt{400^2/900+30^2/100}}$$\n",
    "\n",
    "$$t = \\frac{91}{\\sqrt{160000/900+900/100}}$$\n",
    "\n",
    "$$t = \\frac{91}{\\sqrt{1600/9+81/9}}$$\n",
    "\n",
    "$$t = \\frac{91}{\\sqrt{1681/9}}$$\n",
    "\n",
    "$$t = 6.66$$"
   ]
  },
  {
   "cell_type": "markdown",
   "metadata": {},
   "source": [
    "### 3.\n",
    "\n",
    "$$t = \\frac{{45}-{40}}{\\sqrt{45^2/2000+40^2/2000}}$$\n",
    "\n",
    "$$t = \\frac{5}{\\sqrt{2025/2000+1600/2000}}$$\n",
    "\n",
    "$$t = \\frac{5}{\\sqrt{3625/2000}}$$\n",
    "\n",
    "$$t = 3.71$$"
   ]
  },
  {
   "cell_type": "markdown",
   "metadata": {},
   "source": []
  },
  {
   "cell_type": "code",
   "execution_count": null,
   "metadata": {},
   "outputs": [],
   "source": []
  }
 ],
 "metadata": {
  "kernelspec": {
   "display_name": "Python 3",
   "language": "python",
   "name": "python3"
  },
  "language_info": {
   "codemirror_mode": {
    "name": "ipython",
    "version": 3
   },
   "file_extension": ".py",
   "mimetype": "text/x-python",
   "name": "python",
   "nbconvert_exporter": "python",
   "pygments_lexer": "ipython3",
   "version": "3.7.3"
  }
 },
 "nbformat": 4,
 "nbformat_minor": 2
}
